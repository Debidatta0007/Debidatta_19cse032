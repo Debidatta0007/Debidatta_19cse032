{
  "nbformat": 4,
  "nbformat_minor": 0,
  "metadata": {
    "colab": {
      "name": "Lab_2.ipynb",
      "provenance": [],
      "authorship_tag": "ABX9TyNk/Mpiplju09wGGpPZhP67",
      "include_colab_link": true
    },
    "kernelspec": {
      "name": "python3",
      "display_name": "Python 3"
    }
  },
  "cells": [
    {
      "cell_type": "markdown",
      "metadata": {
        "id": "view-in-github",
        "colab_type": "text"
      },
      "source": [
        "<a href=\"https://colab.research.google.com/github/Debidatta0007/Debidatta_19cse032/blob/main/Lab_2.ipynb\" target=\"_parent\"><img src=\"https://colab.research.google.com/assets/colab-badge.svg\" alt=\"Open In Colab\"/></a>"
      ]
    },
    {
      "cell_type": "markdown",
      "metadata": {
        "id": "uLNsEZ-IgJaq"
      },
      "source": [
        "Display SI and COMPOUND INTEREST"
      ]
    },
    {
      "cell_type": "code",
      "metadata": {
        "colab": {
          "base_uri": "https://localhost:8080/"
        },
        "id": "jI-HWcjGfy-z",
        "outputId": "5110018f-5408-4573-c2bf-41c0350c4f20"
      },
      "source": [
        "p=int(input(\"Enter the principal amount\"))\r\n",
        "t=int(input(\"enter the required time\"))\r\n",
        "r=float(input(\"enter the rate of interest \"))\r\n",
        "interest=(p*t*r)/100\r\n",
        "print(\"S.I :\",interest)\r\n",
        "ci=p*(pow((1+r/100),t))\r\n",
        "print(\"C.I:\",ci)"
      ],
      "execution_count": null,
      "outputs": [
        {
          "output_type": "stream",
          "text": [
            "Enter the principal amount100\n",
            "enter the required time5\n",
            "enter the rate of interest 5.6\n",
            "S.I : 28.0\n",
            "C.I: 131.31658832117762\n"
          ],
          "name": "stdout"
        }
      ]
    },
    {
      "cell_type": "markdown",
      "metadata": {
        "id": "VAS80YEIjkE6"
      },
      "source": [
        "WAP TO INPUT 1ST NAME,MID NAME,LAST NAME last name into three variable and then apply concatenation\r\n"
      ]
    },
    {
      "cell_type": "code",
      "metadata": {
        "colab": {
          "base_uri": "https://localhost:8080/"
        },
        "id": "6mZHc9nUlBZ9",
        "outputId": "cbe9b2e9-4d25-4e72-dcde-5461f7c293bc"
      },
      "source": [
        "f_nm=input(\"enter the first name\")\r\n",
        "m_nm=input(\"enter the middle name\")\r\n",
        "l_nm=input(\"enter the last name\")\r\n",
        "print(\"Name after concatenation :\",f_nm+m_nm+l_nm)"
      ],
      "execution_count": null,
      "outputs": [
        {
          "output_type": "stream",
          "text": [
            "enter the first nameraja\n",
            "enter the middle namedebi\n",
            "enter the last namerout\n",
            "Name after concatenation : rajadebirout\n"
          ],
          "name": "stdout"
        }
      ]
    },
    {
      "cell_type": "markdown",
      "metadata": {
        "id": "pgwdpRu-mIeX"
      },
      "source": [
        "WAP to create a list with multiple dimension and display the element of it."
      ]
    },
    {
      "cell_type": "code",
      "metadata": {
        "colab": {
          "base_uri": "https://localhost:8080/"
        },
        "id": "ZtH8tWGZmZOo",
        "outputId": "78781545-b97d-4f7a-b2bf-9cd5c3a5b06a"
      },
      "source": [
        "list=[\"raja\",\"100\",\"3.5\"]\r\n",
        "print(list)"
      ],
      "execution_count": null,
      "outputs": [
        {
          "output_type": "stream",
          "text": [
            "['raja', '100', '3.5']\n"
          ],
          "name": "stdout"
        }
      ]
    },
    {
      "cell_type": "markdown",
      "metadata": {
        "id": "WXX_0sfjm7OY"
      },
      "source": [
        "WAP to implement type conversion on different data types"
      ]
    },
    {
      "cell_type": "code",
      "metadata": {
        "colab": {
          "base_uri": "https://localhost:8080/"
        },
        "id": "dH_Xv1WZoGRT",
        "outputId": "6814243b-6d26-4d60-92d0-decde3362397"
      },
      "source": [
        "a=int(input(\"enter a integer value\"))\r\n",
        "b=float(a)\r\n",
        "print(\"After conversion the float value is :\",b)\r\n",
        "d=float(input(\"enter a integer value\"))\r\n",
        "e=int(a)\r\n",
        "print(\"After conversion the float value is :\",e)\r\n"
      ],
      "execution_count": null,
      "outputs": [
        {
          "output_type": "stream",
          "text": [
            "enter a integer value2\n",
            "After conversion the float value is : 2.0\n",
            "enter a integer value2.0\n",
            "After conversion the float value is : 2\n"
          ],
          "name": "stdout"
        }
      ]
    },
    {
      "cell_type": "markdown",
      "metadata": {
        "id": "okhI437ap1tc"
      },
      "source": [
        "find the distance between 2 points using pythagorean theorem,where the coordinate of two poin given input."
      ]
    },
    {
      "cell_type": "code",
      "metadata": {
        "colab": {
          "base_uri": "https://localhost:8080/"
        },
        "id": "7QukTggfqac3",
        "outputId": "7b414415-4430-4573-c06e-9128c5f5ba2c"
      },
      "source": [
        "import math\r\n",
        "X1=float(input(\"eNTER THE VALUE OF X1 :\"))\r\n",
        "Y1=float(input(\"eNTER THE VALUE OF Y1 :\"))\r\n",
        "X2=float(input(\"eNTER THE VALUE OF X2 :\"))\r\n",
        "Y2=float(input(\"eNTER THE VALUE OF Y2 :\"))\r\n",
        "d=math.sqrt((X2-X1)**2+(Y2-Y1)**2)\r\n",
        "print(\"Distance is :\",d)"
      ],
      "execution_count": null,
      "outputs": [
        {
          "output_type": "stream",
          "text": [
            "eNTER THE VALUE OF X1 :3.2\n",
            "eNTER THE VALUE OF Y1 :2.2\n",
            "eNTER THE VALUE OF X2 :5.2\n",
            "eNTER THE VALUE OF Y2 :4.2\n",
            "Distance is : 2.8284271247461903\n"
          ],
          "name": "stdout"
        }
      ]
    }
  ]
}