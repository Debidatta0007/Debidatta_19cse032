{
  "nbformat": 4,
  "nbformat_minor": 0,
  "metadata": {
    "colab": {
      "name": "Untitled0.ipynb",
      "provenance": [],
      "authorship_tag": "ABX9TyNBk4nvqo/UeXcYTW909RNK",
      "include_colab_link": true
    },
    "kernelspec": {
      "name": "python3",
      "display_name": "Python 3"
    },
    "language_info": {
      "name": "python"
    }
  },
  "cells": [
    {
      "cell_type": "markdown",
      "metadata": {
        "id": "view-in-github",
        "colab_type": "text"
      },
      "source": [
        "<a href=\"https://colab.research.google.com/github/Debidatta0007/Debidatta_19cse032/blob/main/lab3.ipynb\" target=\"_parent\"><img src=\"https://colab.research.google.com/assets/colab-badge.svg\" alt=\"Open In Colab\"/></a>"
      ]
    },
    {
      "cell_type": "markdown",
      "metadata": {
        "id": "7aXeM4D7amzo"
      },
      "source": [
        "1.Create a list with tuples inside it(series) calculate he sum of the element in tuple and store the sum of tuples in second list"
      ]
    },
    {
      "cell_type": "code",
      "metadata": {
        "colab": {
          "base_uri": "https://localhost:8080/"
        },
        "id": "FER2BtfEaaIV",
        "outputId": "4a057524-4276-46ad-c57e-ab7870e5038d"
      },
      "source": [
        "list=[(1,2,3),(4,5,6)]\n",
        "list1=[]\n",
        "for i in list:\n",
        "  list1.append(sum(i))\n",
        "print(list1)"
      ],
      "execution_count": 2,
      "outputs": [
        {
          "output_type": "stream",
          "text": [
            "[6, 15]\n"
          ],
          "name": "stdout"
        }
      ]
    },
    {
      "cell_type": "markdown",
      "metadata": {
        "id": "dWgnzD-QgYpZ"
      },
      "source": [
        "wap to create a  list  and input numbers into it,then remove the repeated element from it and display it back. "
      ]
    },
    {
      "cell_type": "code",
      "metadata": {
        "colab": {
          "base_uri": "https://localhost:8080/"
        },
        "id": "hxmGHN_igbWM",
        "outputId": "a6f6f0a1-985a-4223-e31f-7f7692643dc9"
      },
      "source": [
        "lis=[]\n",
        "n = int(input(\"Enter number of elements : \"))\n",
        "for i in range(0, n):\n",
        "      ele = int(input())\n",
        "      lis.append(ele)\n",
        "\n",
        "print(lis)\n",
        "res = []\n",
        "for i in lis:\n",
        "    if i not in res:\n",
        "        res.append(i)\n",
        "print (\"The list after removing duplicates : \" + str(res))"
      ],
      "execution_count": 9,
      "outputs": [
        {
          "output_type": "stream",
          "text": [
            "Enter number of elements : 5\n",
            "5\n",
            "5\n",
            "6\n",
            "1\n",
            "4\n",
            "[5, 5, 6, 1, 4]\n",
            "The list after removing duplicates : [5, 6, 1, 4]\n"
          ],
          "name": "stdout"
        }
      ]
    }
  ]
}