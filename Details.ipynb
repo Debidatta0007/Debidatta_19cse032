{
  "nbformat": 4,
  "nbformat_minor": 0,
  "metadata": {
    "colab": {
      "name": "Details.ipynb",
      "provenance": [],
      "collapsed_sections": [],
      "authorship_tag": "ABX9TyNIG+CXliFA3XOkEp2DoS9y",
      "include_colab_link": true
    },
    "kernelspec": {
      "name": "python3",
      "display_name": "Python 3"
    }
  },
  "cells": [
    {
      "cell_type": "markdown",
      "metadata": {
        "id": "view-in-github",
        "colab_type": "text"
      },
      "source": [
        "<a href=\"https://colab.research.google.com/github/Debidatta0007/Debidatta_19cse032/blob/main/Details.ipynb\" target=\"_parent\"><img src=\"https://colab.research.google.com/assets/colab-badge.svg\" alt=\"Open In Colab\"/></a>"
      ]
    },
    {
      "cell_type": "markdown",
      "metadata": {
        "id": "a3yUh-Ilmw1_"
      },
      "source": [
        "1.Write a program to input ur name,age and address , print them."
      ]
    },
    {
      "cell_type": "code",
      "metadata": {
        "id": "PH_BVC4ykOZO"
      },
      "source": [
        "nm=input(\"Enter your name\")\r\n",
        "age=int(input(\"Enter your age\"))\r\n",
        "add=input(\"Enter your address\")\r\n",
        "print(\"Ur Name :\",nm)\r\n",
        "print(\"Ur Age :\",age)\r\n",
        "print(\"Ur Address :\",add)"
      ],
      "execution_count": null,
      "outputs": []
    }
  ]
}